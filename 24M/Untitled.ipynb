{
 "cells": [
  {
   "cell_type": "code",
   "execution_count": 1,
   "metadata": {
    "collapsed": true
   },
   "outputs": [],
   "source": [
    "import json\n",
    "    \n",
    "import pandas as pd"
   ]
  },
  {
   "cell_type": "code",
   "execution_count": 3,
   "metadata": {
    "collapsed": false
   },
   "outputs": [
    {
     "data": {
      "text/plain": [
       "{'contributors': None,\n",
       " 'coordinates': None,\n",
       " 'created_at': 'Fri Mar 24 13:54:27 +0000 2017',\n",
       " 'entities': {'hashtags': [{'indices': [18, 41],\n",
       "    'text': 'memoriaVerdadYJusticia'},\n",
       "   {'indices': [42, 51], 'text': 'nuncamas'}],\n",
       "  'media': [{'display_url': 'pic.twitter.com/fxDpy9kX3P',\n",
       "    'expanded_url': 'https://twitter.com/CFKArgentina/status/845272300006129664/photo/1',\n",
       "    'id': 845272273900711936,\n",
       "    'id_str': '845272273900711936',\n",
       "    'indices': [52, 75],\n",
       "    'media_url': 'http://pbs.twimg.com/media/C7sCp5hWsAAo08N.jpg',\n",
       "    'media_url_https': 'https://pbs.twimg.com/media/C7sCp5hWsAAo08N.jpg',\n",
       "    'sizes': {'large': {'h': 540, 'resize': 'fit', 'w': 720},\n",
       "     'medium': {'h': 540, 'resize': 'fit', 'w': 720},\n",
       "     'small': {'h': 510, 'resize': 'fit', 'w': 680},\n",
       "     'thumb': {'h': 150, 'resize': 'crop', 'w': 150}},\n",
       "    'source_status_id': 845272300006129664,\n",
       "    'source_status_id_str': '845272300006129664',\n",
       "    'source_user_id': 138814032,\n",
       "    'source_user_id_str': '138814032',\n",
       "    'type': 'photo',\n",
       "    'url': 'https://t.co/fxDpy9kX3P'}],\n",
       "  'symbols': [],\n",
       "  'urls': [],\n",
       "  'user_mentions': [{'id': 138814032,\n",
       "    'id_str': '138814032',\n",
       "    'indices': [3, 16],\n",
       "    'name': 'Cristina Kirchner',\n",
       "    'screen_name': 'CFKArgentina'}]},\n",
       " 'extended_entities': {'media': [{'display_url': 'pic.twitter.com/fxDpy9kX3P',\n",
       "    'expanded_url': 'https://twitter.com/CFKArgentina/status/845272300006129664/photo/1',\n",
       "    'id': 845272273900711936,\n",
       "    'id_str': '845272273900711936',\n",
       "    'indices': [52, 75],\n",
       "    'media_url': 'http://pbs.twimg.com/media/C7sCp5hWsAAo08N.jpg',\n",
       "    'media_url_https': 'https://pbs.twimg.com/media/C7sCp5hWsAAo08N.jpg',\n",
       "    'sizes': {'large': {'h': 540, 'resize': 'fit', 'w': 720},\n",
       "     'medium': {'h': 540, 'resize': 'fit', 'w': 720},\n",
       "     'small': {'h': 510, 'resize': 'fit', 'w': 680},\n",
       "     'thumb': {'h': 150, 'resize': 'crop', 'w': 150}},\n",
       "    'source_status_id': 845272300006129664,\n",
       "    'source_status_id_str': '845272300006129664',\n",
       "    'source_user_id': 138814032,\n",
       "    'source_user_id_str': '138814032',\n",
       "    'type': 'photo',\n",
       "    'url': 'https://t.co/fxDpy9kX3P'}]},\n",
       " 'favorite_count': 0,\n",
       " 'favorited': False,\n",
       " 'filter_level': 'low',\n",
       " 'geo': None,\n",
       " 'id': 845272602784485377,\n",
       " 'id_str': '845272602784485377',\n",
       " 'in_reply_to_screen_name': None,\n",
       " 'in_reply_to_status_id': None,\n",
       " 'in_reply_to_status_id_str': None,\n",
       " 'in_reply_to_user_id': None,\n",
       " 'in_reply_to_user_id_str': None,\n",
       " 'is_quote_status': False,\n",
       " 'lang': 'und',\n",
       " 'place': None,\n",
       " 'possibly_sensitive': False,\n",
       " 'retweet_count': 0,\n",
       " 'retweeted': False,\n",
       " 'retweeted_status': {'contributors': None,\n",
       "  'coordinates': None,\n",
       "  'created_at': 'Fri Mar 24 13:53:15 +0000 2017',\n",
       "  'display_text_range': [0, 33],\n",
       "  'entities': {'hashtags': [{'indices': [0, 23],\n",
       "     'text': 'memoriaVerdadYJusticia'},\n",
       "    {'indices': [24, 33], 'text': 'nuncamas'}],\n",
       "   'media': [{'display_url': 'pic.twitter.com/fxDpy9kX3P',\n",
       "     'expanded_url': 'https://twitter.com/CFKArgentina/status/845272300006129664/photo/1',\n",
       "     'id': 845272273900711936,\n",
       "     'id_str': '845272273900711936',\n",
       "     'indices': [34, 57],\n",
       "     'media_url': 'http://pbs.twimg.com/media/C7sCp5hWsAAo08N.jpg',\n",
       "     'media_url_https': 'https://pbs.twimg.com/media/C7sCp5hWsAAo08N.jpg',\n",
       "     'sizes': {'large': {'h': 540, 'resize': 'fit', 'w': 720},\n",
       "      'medium': {'h': 540, 'resize': 'fit', 'w': 720},\n",
       "      'small': {'h': 510, 'resize': 'fit', 'w': 680},\n",
       "      'thumb': {'h': 150, 'resize': 'crop', 'w': 150}},\n",
       "     'type': 'photo',\n",
       "     'url': 'https://t.co/fxDpy9kX3P'}],\n",
       "   'symbols': [],\n",
       "   'urls': [],\n",
       "   'user_mentions': []},\n",
       "  'extended_entities': {'media': [{'display_url': 'pic.twitter.com/fxDpy9kX3P',\n",
       "     'expanded_url': 'https://twitter.com/CFKArgentina/status/845272300006129664/photo/1',\n",
       "     'id': 845272273900711936,\n",
       "     'id_str': '845272273900711936',\n",
       "     'indices': [34, 57],\n",
       "     'media_url': 'http://pbs.twimg.com/media/C7sCp5hWsAAo08N.jpg',\n",
       "     'media_url_https': 'https://pbs.twimg.com/media/C7sCp5hWsAAo08N.jpg',\n",
       "     'sizes': {'large': {'h': 540, 'resize': 'fit', 'w': 720},\n",
       "      'medium': {'h': 540, 'resize': 'fit', 'w': 720},\n",
       "      'small': {'h': 510, 'resize': 'fit', 'w': 680},\n",
       "      'thumb': {'h': 150, 'resize': 'crop', 'w': 150}},\n",
       "     'type': 'photo',\n",
       "     'url': 'https://t.co/fxDpy9kX3P'}]},\n",
       "  'favorite_count': 146,\n",
       "  'favorited': False,\n",
       "  'filter_level': 'low',\n",
       "  'geo': None,\n",
       "  'id': 845272300006129664,\n",
       "  'id_str': '845272300006129664',\n",
       "  'in_reply_to_screen_name': None,\n",
       "  'in_reply_to_status_id': None,\n",
       "  'in_reply_to_status_id_str': None,\n",
       "  'in_reply_to_user_id': None,\n",
       "  'in_reply_to_user_id_str': None,\n",
       "  'is_quote_status': False,\n",
       "  'lang': 'und',\n",
       "  'place': None,\n",
       "  'possibly_sensitive': False,\n",
       "  'retweet_count': 99,\n",
       "  'retweeted': False,\n",
       "  'source': '<a href=\"http://twitter.com\" rel=\"nofollow\">Twitter Web Client</a>',\n",
       "  'text': '#memoriaVerdadYJusticia #nuncamas https://t.co/fxDpy9kX3P',\n",
       "  'truncated': False,\n",
       "  'user': {'contributors_enabled': False,\n",
       "   'created_at': 'Fri Apr 30 17:36:51 +0000 2010',\n",
       "   'default_profile': False,\n",
       "   'default_profile_image': False,\n",
       "   'description': 'Cristina Fernández de Kirchner, militante peronista, Presidenta mandato cumplido. http://www.facebook.com/CFKArgentina\\nhttps://telegram.me/cfkentelegram',\n",
       "   'favourites_count': 56,\n",
       "   'follow_request_sent': None,\n",
       "   'followers_count': 4778411,\n",
       "   'following': None,\n",
       "   'friends_count': 159,\n",
       "   'geo_enabled': False,\n",
       "   'id': 138814032,\n",
       "   'id_str': '138814032',\n",
       "   'is_translator': False,\n",
       "   'lang': 'es',\n",
       "   'listed_count': 15066,\n",
       "   'location': 'Argentina',\n",
       "   'name': 'Cristina Kirchner',\n",
       "   'notifications': None,\n",
       "   'profile_background_color': 'AB48F2',\n",
       "   'profile_background_image_url': 'http://pbs.twimg.com/profile_background_images/678962478416556033/5VDvwCKM.jpg',\n",
       "   'profile_background_image_url_https': 'https://pbs.twimg.com/profile_background_images/678962478416556033/5VDvwCKM.jpg',\n",
       "   'profile_background_tile': False,\n",
       "   'profile_banner_url': 'https://pbs.twimg.com/profile_banners/138814032/1474911155',\n",
       "   'profile_image_url': 'http://pbs.twimg.com/profile_images/1112014698/foto6-3.jpg_1__normal.jpg',\n",
       "   'profile_image_url_https': 'https://pbs.twimg.com/profile_images/1112014698/foto6-3.jpg_1__normal.jpg',\n",
       "   'profile_link_color': '007BFF',\n",
       "   'profile_sidebar_border_color': 'FFFFFF',\n",
       "   'profile_sidebar_fill_color': 'E4EBF2',\n",
       "   'profile_text_color': 'BE14C7',\n",
       "   'profile_use_background_image': True,\n",
       "   'protected': False,\n",
       "   'screen_name': 'CFKArgentina',\n",
       "   'statuses_count': 11398,\n",
       "   'time_zone': 'Buenos Aires',\n",
       "   'url': 'http://www.cfkargentina.com',\n",
       "   'utc_offset': -10800,\n",
       "   'verified': True}},\n",
       " 'source': '<a href=\"http://twitter.com\" rel=\"nofollow\">Twitter Web Client</a>',\n",
       " 'text': 'RT @CFKArgentina: #memoriaVerdadYJusticia #nuncamas https://t.co/fxDpy9kX3P',\n",
       " 'timestamp_ms': '1490363667566',\n",
       " 'truncated': False,\n",
       " 'user': {'contributors_enabled': False,\n",
       "  'created_at': 'Sun Oct 10 00:05:35 +0000 2010',\n",
       "  'default_profile': False,\n",
       "  'default_profile_image': False,\n",
       "  'description': None,\n",
       "  'favourites_count': 9,\n",
       "  'follow_request_sent': None,\n",
       "  'followers_count': 72,\n",
       "  'following': None,\n",
       "  'friends_count': 66,\n",
       "  'geo_enabled': False,\n",
       "  'id': 200690392,\n",
       "  'id_str': '200690392',\n",
       "  'is_translator': False,\n",
       "  'lang': 'es',\n",
       "  'listed_count': 0,\n",
       "  'location': 'Buenos Aires',\n",
       "  'name': 'Franco',\n",
       "  'notifications': None,\n",
       "  'profile_background_color': 'FFFFFF',\n",
       "  'profile_background_image_url': 'http://abs.twimg.com/images/themes/theme14/bg.gif',\n",
       "  'profile_background_image_url_https': 'https://abs.twimg.com/images/themes/theme14/bg.gif',\n",
       "  'profile_background_tile': False,\n",
       "  'profile_banner_url': 'https://pbs.twimg.com/profile_banners/200690392/1488733703',\n",
       "  'profile_image_url': 'http://pbs.twimg.com/profile_images/842532418435342336/Z40uX0Ln_normal.jpg',\n",
       "  'profile_image_url_https': 'https://pbs.twimg.com/profile_images/842532418435342336/Z40uX0Ln_normal.jpg',\n",
       "  'profile_link_color': '91D2FA',\n",
       "  'profile_sidebar_border_color': 'FFFFFF',\n",
       "  'profile_sidebar_fill_color': '252429',\n",
       "  'profile_text_color': '666666',\n",
       "  'profile_use_background_image': False,\n",
       "  'protected': False,\n",
       "  'screen_name': 'framonteg',\n",
       "  'statuses_count': 711,\n",
       "  'time_zone': 'Buenos Aires',\n",
       "  'url': None,\n",
       "  'utc_offset': -10800,\n",
       "  'verified': False}}"
      ]
     },
     "execution_count": 3,
     "metadata": {},
     "output_type": "execute_result"
    }
   ],
   "source": [
    "streaming_file = open('./streaming_24M.txt', 'r')\n",
    "\n",
    "line = streaming_file.readline()\n",
    "data = json.loads(line)\n",
    "\n",
    "#for key in data.keys():\n",
    "#    print(key, data[key], '\\n')\n",
    "data"
   ]
  },
  {
   "cell_type": "code",
   "execution_count": 4,
   "metadata": {
    "collapsed": false
   },
   "outputs": [
    {
     "data": {
      "text/plain": [
       "[]"
      ]
     },
     "execution_count": 4,
     "metadata": {},
     "output_type": "execute_result"
    }
   ],
   "source": [
    "data['retweeted_status']['entities']['user_mentions']"
   ]
  },
  {
   "cell_type": "code",
   "execution_count": null,
   "metadata": {
    "collapsed": true
   },
   "outputs": [],
   "source": []
  },
  {
   "cell_type": "code",
   "execution_count": 3,
   "metadata": {
    "collapsed": false
   },
   "outputs": [
    {
     "data": {
      "text/plain": [
       "{'contributors': None,\n",
       " 'coordinates': None,\n",
       " 'created_at': 'Fri Mar 24 13:54:27 +0000 2017',\n",
       " 'entities': {'hashtags': [{'indices': [20, 29], 'text': 'NuncaMas'},\n",
       "   {'indices': [30, 39], 'text': 'Son30MIL'},\n",
       "   {'indices': [40, 55], 'text': 'DiaDeLaMemoria'},\n",
       "   {'indices': [56, 76], 'text': '24DeMarzoNoSeOlvida'},\n",
       "   {'indices': [109, 121], 'text': 'Fueron30000'}],\n",
       "  'symbols': [],\n",
       "  'urls': [],\n",
       "  'user_mentions': [{'id': 187344626,\n",
       "    'id_str': '187344626',\n",
       "    'indices': [3, 18],\n",
       "    'name': 'La Patria es el otro',\n",
       "    'screen_name': 'EsterLinaLanzi'}]},\n",
       " 'favorite_count': 0,\n",
       " 'favorited': False,\n",
       " 'filter_level': 'low',\n",
       " 'geo': None,\n",
       " 'id': 845272603346571264,\n",
       " 'id_str': '845272603346571264',\n",
       " 'in_reply_to_screen_name': None,\n",
       " 'in_reply_to_status_id': None,\n",
       " 'in_reply_to_status_id_str': None,\n",
       " 'in_reply_to_user_id': None,\n",
       " 'in_reply_to_user_id_str': None,\n",
       " 'is_quote_status': False,\n",
       " 'lang': 'es',\n",
       " 'place': None,\n",
       " 'retweet_count': 0,\n",
       " 'retweeted': False,\n",
       " 'retweeted_status': {'contributors': None,\n",
       "  'coordinates': None,\n",
       "  'created_at': 'Fri Mar 24 13:54:05 +0000 2017',\n",
       "  'display_text_range': [0, 101],\n",
       "  'entities': {'hashtags': [{'indices': [0, 9], 'text': 'NuncaMas'},\n",
       "    {'indices': [10, 19], 'text': 'Son30MIL'},\n",
       "    {'indices': [20, 35], 'text': 'DiaDeLaMemoria'},\n",
       "    {'indices': [36, 56], 'text': '24DeMarzoNoSeOlvida'},\n",
       "    {'indices': [89, 101], 'text': 'Fueron30000'}],\n",
       "   'media': [{'display_url': 'pic.twitter.com/CSd5SrfM3J',\n",
       "     'expanded_url': 'https://twitter.com/EsterLinaLanzi/status/845272510295932929/photo/1',\n",
       "     'id': 845272499814367233,\n",
       "     'id_str': '845272499814367233',\n",
       "     'indices': [102, 125],\n",
       "     'media_url': 'http://pbs.twimg.com/media/C7sC3DHXgAEcZiR.jpg',\n",
       "     'media_url_https': 'https://pbs.twimg.com/media/C7sC3DHXgAEcZiR.jpg',\n",
       "     'sizes': {'large': {'h': 480, 'resize': 'fit', 'w': 480},\n",
       "      'medium': {'h': 480, 'resize': 'fit', 'w': 480},\n",
       "      'small': {'h': 480, 'resize': 'fit', 'w': 480},\n",
       "      'thumb': {'h': 150, 'resize': 'crop', 'w': 150}},\n",
       "     'type': 'photo',\n",
       "     'url': 'https://t.co/CSd5SrfM3J'}],\n",
       "   'symbols': [],\n",
       "   'urls': [],\n",
       "   'user_mentions': []},\n",
       "  'extended_entities': {'media': [{'display_url': 'pic.twitter.com/CSd5SrfM3J',\n",
       "     'expanded_url': 'https://twitter.com/EsterLinaLanzi/status/845272510295932929/photo/1',\n",
       "     'id': 845272499814367233,\n",
       "     'id_str': '845272499814367233',\n",
       "     'indices': [102, 125],\n",
       "     'media_url': 'http://pbs.twimg.com/media/C7sC3DHXgAEcZiR.jpg',\n",
       "     'media_url_https': 'https://pbs.twimg.com/media/C7sC3DHXgAEcZiR.jpg',\n",
       "     'sizes': {'large': {'h': 480, 'resize': 'fit', 'w': 480},\n",
       "      'medium': {'h': 480, 'resize': 'fit', 'w': 480},\n",
       "      'small': {'h': 480, 'resize': 'fit', 'w': 480},\n",
       "      'thumb': {'h': 150, 'resize': 'crop', 'w': 150}},\n",
       "     'type': 'photo',\n",
       "     'url': 'https://t.co/CSd5SrfM3J'}]},\n",
       "  'favorite_count': 2,\n",
       "  'favorited': False,\n",
       "  'filter_level': 'low',\n",
       "  'geo': None,\n",
       "  'id': 845272510295932929,\n",
       "  'id_str': '845272510295932929',\n",
       "  'in_reply_to_screen_name': None,\n",
       "  'in_reply_to_status_id': None,\n",
       "  'in_reply_to_status_id_str': None,\n",
       "  'in_reply_to_user_id': None,\n",
       "  'in_reply_to_user_id_str': None,\n",
       "  'is_quote_status': False,\n",
       "  'lang': 'es',\n",
       "  'place': None,\n",
       "  'possibly_sensitive': False,\n",
       "  'retweet_count': 2,\n",
       "  'retweeted': False,\n",
       "  'source': '<a href=\"http://twitter.com\" rel=\"nofollow\">Twitter Web Client</a>',\n",
       "  'text': '#NuncaMas\\n#Son30MIL\\n#DiaDeLaMemoria\\n#24DeMarzoNoSeOlvida\\nDía Nacional de la Memoria\\nDDHH\\n#Fueron30000 https://t.co/CSd5SrfM3J',\n",
       "  'truncated': False,\n",
       "  'user': {'contributors_enabled': False,\n",
       "   'created_at': 'Sun Sep 05 23:55:53 +0000 2010',\n",
       "   'default_profile': False,\n",
       "   'default_profile_image': False,\n",
       "   'description': 'Tengo 67 años, casada, 3 hijos, y muy crítica con mi sociedad. Apoyo el Proyecto Nacional y Popular por sus valores cristianos.\\nNo sigo huevos. Pone 1 foto!',\n",
       "   'favourites_count': 84403,\n",
       "   'follow_request_sent': None,\n",
       "   'followers_count': 30701,\n",
       "   'following': None,\n",
       "   'friends_count': 27712,\n",
       "   'geo_enabled': True,\n",
       "   'id': 187344626,\n",
       "   'id_str': '187344626',\n",
       "   'is_translator': False,\n",
       "   'lang': 'es',\n",
       "   'listed_count': 105,\n",
       "   'location': 'San Nicolás, Pcia Bs.As.',\n",
       "   'name': 'La Patria es el otro',\n",
       "   'notifications': None,\n",
       "   'profile_background_color': '000000',\n",
       "   'profile_background_image_url': 'http://abs.twimg.com/images/themes/theme19/bg.gif',\n",
       "   'profile_background_image_url_https': 'https://abs.twimg.com/images/themes/theme19/bg.gif',\n",
       "   'profile_background_tile': False,\n",
       "   'profile_banner_url': 'https://pbs.twimg.com/profile_banners/187344626/1398447139',\n",
       "   'profile_image_url': 'http://pbs.twimg.com/profile_images/570188267308347392/2H3-Wadj_normal.png',\n",
       "   'profile_image_url_https': 'https://pbs.twimg.com/profile_images/570188267308347392/2H3-Wadj_normal.png',\n",
       "   'profile_link_color': '3B94D9',\n",
       "   'profile_sidebar_border_color': '000000',\n",
       "   'profile_sidebar_fill_color': '000000',\n",
       "   'profile_text_color': '000000',\n",
       "   'profile_use_background_image': False,\n",
       "   'protected': False,\n",
       "   'screen_name': 'EsterLinaLanzi',\n",
       "   'statuses_count': 447315,\n",
       "   'time_zone': 'Brasilia',\n",
       "   'url': None,\n",
       "   'utc_offset': -10800,\n",
       "   'verified': False}},\n",
       " 'source': '<a href=\"http://twitter.com\" rel=\"nofollow\">Twitter Web Client</a>',\n",
       " 'text': 'RT @EsterLinaLanzi: #NuncaMas\\n#Son30MIL\\n#DiaDeLaMemoria\\n#24DeMarzoNoSeOlvida\\nDía Nacional de la Memoria\\nDDHH\\n#Fueron30000 https://t.co/CSd5…',\n",
       " 'timestamp_ms': '1490363667700',\n",
       " 'truncated': False,\n",
       " 'user': {'contributors_enabled': False,\n",
       "  'created_at': 'Fri Aug 13 20:45:22 +0000 2010',\n",
       "  'default_profile': False,\n",
       "  'default_profile_image': False,\n",
       "  'description': 'Escritora, Periodista Amo los animales, Ultra K, como este gobierno no hubo otro. POR FAVOR ANTI K ABSTENERSE DE MSJES AGRESIVOS, PORQUE LOS BLOQUEO',\n",
       "  'favourites_count': 9701,\n",
       "  'follow_request_sent': None,\n",
       "  'followers_count': 2020,\n",
       "  'following': None,\n",
       "  'friends_count': 2221,\n",
       "  'geo_enabled': False,\n",
       "  'id': 178082661,\n",
       "  'id_str': '178082661',\n",
       "  'is_translator': False,\n",
       "  'lang': 'es',\n",
       "  'listed_count': 26,\n",
       "  'location': 'Merlo San Luis',\n",
       "  'name': 'Lorena',\n",
       "  'notifications': None,\n",
       "  'profile_background_color': 'EDECE9',\n",
       "  'profile_background_image_url': 'http://abs.twimg.com/images/themes/theme3/bg.gif',\n",
       "  'profile_background_image_url_https': 'https://abs.twimg.com/images/themes/theme3/bg.gif',\n",
       "  'profile_background_tile': False,\n",
       "  'profile_banner_url': 'https://pbs.twimg.com/profile_banners/178082661/1357314585',\n",
       "  'profile_image_url': 'http://pbs.twimg.com/profile_images/3064715781/8c3a8c79fb7a0ee6d84eabfb87f33028_normal.jpeg',\n",
       "  'profile_image_url_https': 'https://pbs.twimg.com/profile_images/3064715781/8c3a8c79fb7a0ee6d84eabfb87f33028_normal.jpeg',\n",
       "  'profile_link_color': '088253',\n",
       "  'profile_sidebar_border_color': 'D3D2CF',\n",
       "  'profile_sidebar_fill_color': 'E3E2DE',\n",
       "  'profile_text_color': '634047',\n",
       "  'profile_use_background_image': True,\n",
       "  'protected': False,\n",
       "  'screen_name': 'laloredesluis',\n",
       "  'statuses_count': 70771,\n",
       "  'time_zone': 'Santiago',\n",
       "  'url': 'http://lahojademerlo.blogspot.com/',\n",
       "  'utc_offset': -10800,\n",
       "  'verified': False}}"
      ]
     },
     "execution_count": 3,
     "metadata": {},
     "output_type": "execute_result"
    }
   ],
   "source": [
    "line = streaming_file.readline()\n",
    "data = json.loads(line)\n",
    "\n",
    "#for key in data.keys():\n",
    "#    print(key, data[key], '\\n')\n",
    "data"
   ]
  },
  {
   "cell_type": "code",
   "execution_count": 12,
   "metadata": {
    "collapsed": false
   },
   "outputs": [
    {
     "name": "stdout",
     "output_type": "stream",
     "text": [
      "['CFKArgentina']\n",
      "[138814032]\n"
     ]
    }
   ],
   "source": [
    "streaming_file = open('./streaming_24M.txt', 'r')\n",
    "\n",
    "cnt = 0\n",
    "for cnt, line in enumerate(streaming_file):\n",
    "    data = json.loads(line)\n",
    "    \n",
    "    mentions_name = []\n",
    "    mentions_id = []\n",
    "    if 'retweeted_status' in data.keys():\n",
    "        for user in data['retweeted_status']['entities']['user_mentions']:\n",
    "            mentions_name.append(user['screen_name'])\n",
    "            mentions_id.append(user['id'])\n",
    "            \n",
    "        if data['retweeted_status']['entities']['user_mentions']:\n",
    "            print(mentions_name)\n",
    "            print(mentions_id)\n",
    "            break"
   ]
  },
  {
   "cell_type": "code",
   "execution_count": 11,
   "metadata": {
    "collapsed": false
   },
   "outputs": [
    {
     "data": {
      "text/plain": [
       "[{'id': 138814032,\n",
       "  'id_str': '138814032',\n",
       "  'indices': [71, 84],\n",
       "  'name': 'Cristina Kirchner',\n",
       "  'screen_name': 'CFKArgentina'}]"
      ]
     },
     "execution_count": 11,
     "metadata": {},
     "output_type": "execute_result"
    }
   ],
   "source": [
    "data['retweeted_status']['entities']['user_mentions']"
   ]
  },
  {
   "cell_type": "code",
   "execution_count": 50,
   "metadata": {
    "collapsed": false
   },
   "outputs": [
    {
     "data": {
      "text/plain": [
       "(845272602784485377, 200690392, 845272300006129664, 138814032)"
      ]
     },
     "execution_count": 50,
     "metadata": {},
     "output_type": "execute_result"
    }
   ],
   "source": [
    "(data['id'], data['user']['id'], data['entities']['media'][0]['source_status_id'], \n",
    "data['entities']['media'][0]['source_user_id'])"
   ]
  },
  {
   "cell_type": "code",
   "execution_count": 45,
   "metadata": {
    "collapsed": false
   },
   "outputs": [
    {
     "data": {
      "text/plain": [
       "dict_keys(['filter_level', 'source', 'in_reply_to_user_id', 'possibly_sensitive', 'contributors', 'text', 'is_quote_status', 'extended_entities', 'retweet_count', 'coordinates', 'place', 'in_reply_to_user_id_str', 'user', 'id_str', 'retweeted_status', 'favorite_count', 'in_reply_to_screen_name', 'entities', 'timestamp_ms', 'in_reply_to_status_id', 'created_at', 'geo', 'in_reply_to_status_id_str', 'retweeted', 'truncated', 'id', 'lang', 'favorited'])"
      ]
     },
     "execution_count": 45,
     "metadata": {},
     "output_type": "execute_result"
    }
   ],
   "source": [
    "data.keys()"
   ]
  },
  {
   "cell_type": "code",
   "execution_count": 37,
   "metadata": {
    "collapsed": true
   },
   "outputs": [],
   "source": [
    "from tweepy.streaming import StreamListener\n",
    "from tweepy import OAuthHandler\n",
    "import tweepy"
   ]
  },
  {
   "cell_type": "code",
   "execution_count": 38,
   "metadata": {
    "collapsed": true
   },
   "outputs": [],
   "source": [
    "access_token = \"629845265-E72rPxFp3n2vkZaj8DNF7YyQlir8GfTmXb0g1cHm\"\n",
    "access_token_secret = \"qeYtVTSTLtjFlDcDT6xmiXAb0arCzbOEwScRQELv0XcJy\"\n",
    "consumer_key = \"zMJCYC73ZqphEkLYwt35kYGwt\"\n",
    "consumer_secret = \"3RE26jdslHUjw6f3LaXtlhrLFzmgvotxiMGjZ3V66eVCwJUpzq\"\n",
    "\n",
    "auth = OAuthHandler(consumer_key, consumer_secret)\n",
    "auth.set_access_token(access_token, access_token_secret)"
   ]
  },
  {
   "cell_type": "code",
   "execution_count": 42,
   "metadata": {
    "collapsed": false
   },
   "outputs": [
    {
     "data": {
      "text/plain": [
       "Place(attributes={'geotagCount': '5572'}, bounding_box=BoundingBox(_api=<tweepy.api.API object at 0x7fc318790860>, type='Polygon', coordinates=[[[-63.39386, -41.035009], [-63.39386, -33.260144], [-56.665836, -33.260144], [-56.665836, -41.035009], [-63.39386, -41.035009]]]), country='Argentina', centroid=[-60.134227097027185, -37.1475765], contained_within=[Place(_api=<tweepy.api.API object at 0x7fc318790860>, id='4d3b316fe2e52b29', bounding_box=BoundingBox(_api=<tweepy.api.API object at 0x7fc318790860>, type='Polygon', coordinates=[[[-73.572716, -55.116856], [-73.572716, -21.778451], [-53.641135, -21.778451], [-53.641135, -55.116856], [-73.572716, -55.116856]]]), country='Argentina', attributes={}, name='Argentina', country_code='AR', url='https://api.twitter.com/1.1/geo/id/4d3b316fe2e52b29.json', full_name='Argentina', place_type='country', centroid=[-63.91532128238656, -37.087135])], geometry=None, _api=<tweepy.api.API object at 0x7fc318790860>, id='4afa2757051c5192', polylines=[], name='Buenos Aires', country_code='AR', full_name='Buenos Aires, Argentina', url='https://api.twitter.com/1.1/geo/id/4afa2757051c5192.json', place_type='admin')"
      ]
     },
     "execution_count": 42,
     "metadata": {},
     "output_type": "execute_result"
    }
   ],
   "source": [
    "api = tweepy.API(auth)\n",
    "api.geo_id('4afa2757051c5192')"
   ]
  },
  {
   "cell_type": "code",
   "execution_count": null,
   "metadata": {
    "collapsed": true
   },
   "outputs": [],
   "source": [
    "keys_ori = ['possibly_sensitive', 'text',\n",
    "            \n",
    "            'in_reply_to_screen_name', 'in_reply_to_status_id', 'in_reply_to_status_id_str', \n",
    "            'in_reply_to_user_id', 'in_reply_to_user_id_str',\n",
    "            'retweeted_status', 'retweeted',  \n",
    "            'entities',  \n",
    "            'is_quote_status', 'contributors', 'filter_level',\n",
    "            'extended_entities']\n",
    "\n",
    "keys_general = ['id', 'id_str', 'timestamp_ms', 'created_at', 'lang']\n",
    "keys_geo = ['geo', 'place', 'coordinates']\n",
    "keys_user = ['user']\n",
    "\n",
    "keys_count = ['favorite_count', 'retweet_count', 'favorited']\n",
    "keys_tweet = ['source']"
   ]
  },
  {
   "cell_type": "code",
   "execution_count": 29,
   "metadata": {
    "collapsed": true
   },
   "outputs": [],
   "source": [
    "data['contributors']"
   ]
  },
  {
   "cell_type": "code",
   "execution_count": null,
   "metadata": {
    "collapsed": true
   },
   "outputs": [],
   "source": []
  },
  {
   "cell_type": "code",
   "execution_count": null,
   "metadata": {
    "collapsed": true
   },
   "outputs": [],
   "source": []
  },
  {
   "cell_type": "code",
   "execution_count": null,
   "metadata": {
    "collapsed": true
   },
   "outputs": [],
   "source": []
  },
  {
   "cell_type": "code",
   "execution_count": 21,
   "metadata": {
    "collapsed": false
   },
   "outputs": [
    {
     "name": "stdout",
     "output_type": "stream",
     "text": [
      "framonteg 200690392 845272602784485377\n",
      "CFKArgentina 138814032 845272300006129664\n",
      "laloredesluis 178082661 845272603346571264\n",
      "EsterLinaLanzi 187344626 845272510295932929\n",
      "tedescolaura17 1447656871 845272603455619072\n",
      "facu_pedrini 132896453 845268029785198594\n",
      "ClaudioBisutti 296941365 845272608010592256\n",
      "silvana_crocci 717624010 845262374047240193\n",
      "marishma78 2423066049 845272608111296512\n",
      "CFKArgentina 138814032 845272300006129664\n",
      "OutOfZtyle 256655799 845272608539070464\n",
      "CFKArgentina 138814032 845272300006129664\n",
      "mariuchamariuch 883472144 845272608451022848\n",
      "lanatoparatodos 2792816828 845267639840649216\n",
      "hildacuello1 797503862 845272610841788416\n",
      "BettyScarponi 3089436263 845272107084894209\n",
      "ahogadaderazon_ 1488393252 845272612884418560\n",
      "CFKArgentina 138814032 845272300006129664\n",
      "CelesteOliva14 4161600316 845272613324820482\n",
      "CFKArgentina 138814032 845272300006129664\n",
      "DDGALLIANO 109714931 845272616093061120\n",
      "lanatoparatodos 2792816828 845270762034466816\n",
      "rafafa130 2491037800 845272616730537984\n",
      "CFKArgentina 138814032 845272300006129664\n",
      "markyfranky 121596423 845272619222028288\n",
      "CFKArgentina 138814032 845272300006129664\n",
      "ana_piedrabuen 2841646437 845272619905617922\n",
      "eduarillo 152794237 845134571100262400\n",
      "tatusca18 187215272 845272620606128130\n",
      "elcosodelapizza 834702151 845267176810598400\n",
      "n_n_s_s_ 3293666663 845272620471910400\n",
      "EsterLinaLanzi 187344626 845272103754629120\n",
      "mqonj_31 365160818 845272624041279489\n",
      "CFKArgentina 138814032 845272300006129664\n",
      "calefonybiblia 3232133981 845272625303732225\n",
      "irrompiblesorg 220433012 845260058787221504\n",
      "MeliiYanel 2518386745 845272625639297024\n",
      "elcosodelapizza 834702151 845267176810598400\n",
      "camorsrosario 185191033 845272626096455681\n",
      "CFKArgentina 138814032 845272300006129664\n",
      "ManshulaLujan 3101498109 845272626150952960\n",
      "ferro_sebastian 709547486 845269834367684608\n",
      "luis_60s 1556206579 845272626914299906\n",
      "CFKArgentina 138814032 845272300006129664\n",
      "GracielaMenende 1439835726 845272629913292800\n",
      "BarbieriVero 385208562 845263569247711233\n",
      "pauzotta 142501057 845272632740233216\n",
      "CFKArgentina 138814032 845272300006129664\n",
      "Hashshishin 2168846046 845272633021288448\n",
      "pulsionparcial 2957091298 845262469761241088\n",
      "majitorobles32 130938279 845272635965689857\n",
      "CFKArgentina 138814032 845272300006129664\n",
      "nelarockyfpv 4050075868 845272635936325635\n",
      "CFKArgentina 138814032 845272300006129664\n",
      "AllisonTebbe 731350854 845272636133380096\n",
      "JesseLehrich 26186655 845019724421513216\n",
      "msoltwo 74763341 845272640860381184\n",
      "IzqSocialista 458070744 845269446499422209\n",
      "FranTemporini 3225356884 845272641044971520\n",
      "Freudpalopibe 1711170740 845267189426982913\n",
      "Fabricio_IKV 366798194 845272642093531136\n",
      "CFKArgentina 138814032 845272300006129664\n",
      "MAREO_P 226011872 845272642957520901\n",
      "CFKArgentina 138814032 845272300006129664\n",
      "nazarenadaniela 1395629574 845272642936606721\n",
      "elcosodelapizza 834702151 845267176810598400\n",
      "mddieguez 2517544446 845272642789801985\n",
      "CFKArgentina 138814032 845272300006129664\n",
      "galejandroz 100626120 845272642282229761\n",
      "NickyMarquez1 485325459 845136783717261312\n",
      "milemaes1976 3289139845 845272643377008640\n",
      "CFKArgentina 138814032 845272300006129664\n",
      "lulaabt 290876434 845272644115140608\n",
      "CFKArgentina 138814032 845272300006129664\n",
      "LambareP 2858987100 845272644677238784\n",
      "CFKArgentina 138814032 845272300006129664\n",
      "maripigonzalez 182475713 845272646380072960\n",
      "mis2centavos 79239477 845126015735119872\n",
      "DDGALLIANO 109714931 845272647596412928\n",
      "laurea715 946311283 845270607310786561\n",
      "SusanMalter 1651744580 845272648401784836\n",
      "JuddLegum 15464697 845073767890079746\n",
      "ana_piedrabuen 2841646437 845272651107127301\n",
      "eduarillo 152794237 845134031171731456\n",
      "ClaudiaArgent 2395547340 845272651677532161\n",
      "irrompiblesorg 220433012 845260058787221504\n",
      "martinadaro1 531776876 845272652927418368\n",
      "ARGNoticiasok 1924383264 845269990865559552\n",
      "PochiRafael 3314004873 845272653070041088\n",
      "AleGomezFabio 1103921910 845268642279424001\n",
      "Marcelo61159 3395004184 845272654194118657\n",
      "CFKArgentina 138814032 845272300006129664\n",
      "zeeh1975 17623374 845272655330754560\n",
      "cardoruso 52618610 845272594882465792\n",
      "silvisdl 302352612 845272656198995968\n",
      "pblcabj 954566096 845268262610964480\n",
      "luliordoqui 731484073 845272657218162690\n",
      "elcosodelapizza 834702151 845267176810598400\n",
      "Hashshishin 2168846046 845272658593878016\n",
      "pulsionparcial 2957091298 845270093034655745\n",
      "NEncuentroCABA 1327249620 845272658380050435\n",
      "LucasOntiveroNE 838675118083670016 845272164425252866\n",
      "Johnny_Gimarey9 178063851 845272659403460608\n",
      "Angelalerena 148753334 845248239557398528\n",
      "MauFalconn 704731494246453249 845272659869007873\n",
      "tocarparajugar 179600928 845272320839237636\n",
      "evimarch 189681351 845272662666567680\n",
      "CFKArgentina 138814032 845272300006129664\n",
      "Antman83092534 716769568258174976 845272663773925376\n",
      "dabao_zhao 758511966038036481 845272656568029186\n",
      "charotrusso 2975679052 845272663895556096\n",
      "peronistsheep 218273136 845271419156094976\n",
      "AnaMataresee 332320463 845272666517000194\n",
      "atlanticsurff 141986676 845246430226866176\n",
      "jjulietalucero 340116162 845272667464839169\n",
      "aguslxsg 209797386 845150589776347137\n",
      "martysea4 529164551 845272667800383489\n",
      "dabao_zhao 758511966038036481 845272656568029186\n",
      "emapellegrini3 587914001 845272667913703424\n",
      "cesargonzaleztw 304589025 845265263935344640\n",
      "twitameesta 1833496044 845272669331341313\n",
      "CFKArgentina 138814032 845272300006129664\n",
      "SalinasTami 2381459281 845272671235555329\n",
      "CFKArgentina 138814032 845272300006129664\n",
      "Odonto_UCV 154078454 845272672191877120\n",
      "VPITV 4527987340 845267139737112580\n",
      "6907rf 969572076 845272672313511936\n",
      "CNHArgentina 785850191391887364 845261762744238080\n",
      "ernetouche72 321552074 845272673378807808\n",
      "facu_pedrini 132896453 845268029785198594\n",
      "LicitraLeonardo 2702740848 845272676650405888\n",
      "CFKArgentina 138814032 845272300006129664\n",
      "Alee_Tedesco 1873363489 845272676155494400\n",
      "elcosodelapizza 834702151 845267176810598400\n",
      "lev_00 367605713 845272677002723329\n",
      "rag_HLVS 361495653 845259633174433792\n",
      "melmasello 517170023 845272677833216003\n",
      "CFKArgentina 138814032 845272300006129664\n",
      "villanopab 3405870747 845272678667833345\n",
      "lucaslauriente 388619554 845262936545378304\n",
      "AhoraPrestamos 3691043656 845272679875821569\n",
      "BettyScarponi 3089436263 845271241380564993\n",
      "Hashshishin 2168846046 845272682304327682\n",
      "pulsionparcial 2957091298 845270375961374721\n",
      "AxeelWhite 205492562 845272684179148801\n",
      "elcosodelapizza 834702151 845267176810598400\n",
      "Suitimmzz 802553761239564288 845272687077416960\n",
      "MelaniexSuarez 2155395565 845270610884341761\n",
      "CamilaDsb1 709851308459737088 845272687542972416\n",
      "Freudpalopibe 1711170740 845267189426982913\n",
      "DDGALLIANO 109714931 845272691154276352\n",
      "lanatoparatodos 2792816828 845267639840649216\n"
     ]
    }
   ],
   "source": [
    "streaming_raw = './streaming_24M.txt'\n",
    "\n",
    "\n",
    "with open(streaming_raw, 'r') as streaming_file:\n",
    "    for cnt, raw_data in enumerate(streaming_file):\n",
    "        #print('\\rProcessing line: {0}'.format(cnt), end='')\n",
    "\n",
    "        data = json.loads(raw_data)\n",
    "        \n",
    "        if 'user' not in data.keys():\n",
    "            continue\n",
    "\n",
    "        if cnt == 100:\n",
    "            break\n",
    "            \n",
    "        if 'retweeted_status' in data.keys():\n",
    "            print(data['user']['screen_name'], data['user']['id'], data['id'])\n",
    "            print(data['retweeted_status']['user']['screen_name'], data['retweeted_status']['user']['id'],\n",
    "                 data['retweeted_status']['id'])"
   ]
  },
  {
   "cell_type": "code",
   "execution_count": null,
   "metadata": {
    "collapsed": true
   },
   "outputs": [],
   "source": []
  }
 ],
 "metadata": {
  "kernelspec": {
   "display_name": "Python 2",
   "language": "python",
   "name": "python2"
  },
  "language_info": {
   "codemirror_mode": {
    "name": "ipython",
    "version": 2
   },
   "file_extension": ".py",
   "mimetype": "text/x-python",
   "name": "python",
   "nbconvert_exporter": "python",
   "pygments_lexer": "ipython2",
   "version": "2.7.12"
  }
 },
 "nbformat": 4,
 "nbformat_minor": 2
}
