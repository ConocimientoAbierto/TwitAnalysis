{
 "cells": [
  {
   "cell_type": "code",
   "execution_count": 16,
   "metadata": {
    "collapsed": false
   },
   "outputs": [],
   "source": [
    "import pandas as pd\n",
    "import matplotlib.pyplot as plt"
   ]
  },
  {
   "cell_type": "code",
   "execution_count": 15,
   "metadata": {
    "collapsed": false
   },
   "outputs": [
    {
     "data": {
      "text/html": [
       "<div>\n",
       "<table border=\"1\" class=\"dataframe\">\n",
       "  <thead>\n",
       "    <tr style=\"text-align: right;\">\n",
       "      <th></th>\n",
       "      <th>user_id</th>\n",
       "      <th>user_name</th>\n",
       "      <th>screen_name</th>\n",
       "      <th>create_at</th>\n",
       "      <th>verified</th>\n",
       "      <th>following_count</th>\n",
       "      <th>followers_count</th>\n",
       "      <th>tweets_count</th>\n",
       "      <th>favourite_count</th>\n",
       "      <th>lang</th>\n",
       "      <th>time_zone</th>\n",
       "      <th>location</th>\n",
       "      <th>profile_image_url</th>\n",
       "      <th>description</th>\n",
       "    </tr>\n",
       "  </thead>\n",
       "  <tbody>\n",
       "    <tr>\n",
       "      <th>0</th>\n",
       "      <td>200690392</td>\n",
       "      <td>Franco</td>\n",
       "      <td>framonteg</td>\n",
       "      <td>Sun Oct 10 00:05:35 +0000 2010</td>\n",
       "      <td>False</td>\n",
       "      <td>72.0</td>\n",
       "      <td>66.0</td>\n",
       "      <td>711.0</td>\n",
       "      <td>9.0</td>\n",
       "      <td>es</td>\n",
       "      <td>Buenos Aires</td>\n",
       "      <td>Buenos Aires</td>\n",
       "      <td>https://pbs.twimg.com/profile_images/842532418...</td>\n",
       "      <td>NaN</td>\n",
       "    </tr>\n",
       "    <tr>\n",
       "      <th>1</th>\n",
       "      <td>178082661</td>\n",
       "      <td>Lorena</td>\n",
       "      <td>laloredesluis</td>\n",
       "      <td>Fri Aug 13 20:45:22 +0000 2010</td>\n",
       "      <td>False</td>\n",
       "      <td>2020.0</td>\n",
       "      <td>2221.0</td>\n",
       "      <td>70771.0</td>\n",
       "      <td>9701.0</td>\n",
       "      <td>es</td>\n",
       "      <td>Santiago</td>\n",
       "      <td>Merlo San Luis</td>\n",
       "      <td>https://pbs.twimg.com/profile_images/306471578...</td>\n",
       "      <td>Escritora, Periodista Amo los animales, Ultra ...</td>\n",
       "    </tr>\n",
       "    <tr>\n",
       "      <th>2</th>\n",
       "      <td>1447656871</td>\n",
       "      <td>tedescolaura</td>\n",
       "      <td>tedescolaura17</td>\n",
       "      <td>Wed May 22 01:02:26 +0000 2013</td>\n",
       "      <td>False</td>\n",
       "      <td>42.0</td>\n",
       "      <td>104.0</td>\n",
       "      <td>916.0</td>\n",
       "      <td>47.0</td>\n",
       "      <td>es</td>\n",
       "      <td>NaN</td>\n",
       "      <td>NaN</td>\n",
       "      <td>https://pbs.twimg.com/profile_images/779673958...</td>\n",
       "      <td>NaN</td>\n",
       "    </tr>\n",
       "    <tr>\n",
       "      <th>3</th>\n",
       "      <td>296941365</td>\n",
       "      <td>Claudio Bisutti</td>\n",
       "      <td>ClaudioBisutti</td>\n",
       "      <td>Wed May 11 17:10:15 +0000 2011</td>\n",
       "      <td>False</td>\n",
       "      <td>308.0</td>\n",
       "      <td>497.0</td>\n",
       "      <td>4779.0</td>\n",
       "      <td>14.0</td>\n",
       "      <td>es</td>\n",
       "      <td>Buenos Aires</td>\n",
       "      <td>Rosario</td>\n",
       "      <td>https://pbs.twimg.com/profile_images/844265064...</td>\n",
       "      <td>La lucha no se abandona se despliega con otras...</td>\n",
       "    </tr>\n",
       "    <tr>\n",
       "      <th>4</th>\n",
       "      <td>2423066049</td>\n",
       "      <td>Mari!</td>\n",
       "      <td>marishma78</td>\n",
       "      <td>Wed Mar 19 17:57:41 +0000 2014</td>\n",
       "      <td>False</td>\n",
       "      <td>5214.0</td>\n",
       "      <td>342.0</td>\n",
       "      <td>137223.0</td>\n",
       "      <td>186171.0</td>\n",
       "      <td>es</td>\n",
       "      <td>Pacific Time (US &amp; Canada)</td>\n",
       "      <td>Frente al campo</td>\n",
       "      <td>https://pbs.twimg.com/profile_images/835399833...</td>\n",
       "      <td>Ignorante</td>\n",
       "    </tr>\n",
       "  </tbody>\n",
       "</table>\n",
       "</div>"
      ],
      "text/plain": [
       "      user_id        user_name     screen_name  \\\n",
       "0   200690392           Franco       framonteg   \n",
       "1   178082661           Lorena   laloredesluis   \n",
       "2  1447656871     tedescolaura  tedescolaura17   \n",
       "3   296941365  Claudio Bisutti  ClaudioBisutti   \n",
       "4  2423066049            Mari!      marishma78   \n",
       "\n",
       "                        create_at verified  following_count  followers_count  \\\n",
       "0  Sun Oct 10 00:05:35 +0000 2010    False             72.0             66.0   \n",
       "1  Fri Aug 13 20:45:22 +0000 2010    False           2020.0           2221.0   \n",
       "2  Wed May 22 01:02:26 +0000 2013    False             42.0            104.0   \n",
       "3  Wed May 11 17:10:15 +0000 2011    False            308.0            497.0   \n",
       "4  Wed Mar 19 17:57:41 +0000 2014    False           5214.0            342.0   \n",
       "\n",
       "   tweets_count  favourite_count lang                   time_zone  \\\n",
       "0         711.0              9.0   es                Buenos Aires   \n",
       "1       70771.0           9701.0   es                    Santiago   \n",
       "2         916.0             47.0   es                         NaN   \n",
       "3        4779.0             14.0   es                Buenos Aires   \n",
       "4      137223.0         186171.0   es  Pacific Time (US & Canada)   \n",
       "\n",
       "          location                                  profile_image_url  \\\n",
       "0     Buenos Aires  https://pbs.twimg.com/profile_images/842532418...   \n",
       "1   Merlo San Luis  https://pbs.twimg.com/profile_images/306471578...   \n",
       "2              NaN  https://pbs.twimg.com/profile_images/779673958...   \n",
       "3          Rosario  https://pbs.twimg.com/profile_images/844265064...   \n",
       "4  Frente al campo  https://pbs.twimg.com/profile_images/835399833...   \n",
       "\n",
       "                                         description  \n",
       "0                                                NaN  \n",
       "1  Escritora, Periodista Amo los animales, Ultra ...  \n",
       "2                                                NaN  \n",
       "3  La lucha no se abandona se despliega con otras...  \n",
       "4                                          Ignorante  "
      ]
     },
     "execution_count": 15,
     "metadata": {},
     "output_type": "execute_result"
    }
   ],
   "source": [
    "df_user = pd.read_csv('./user.csv')\n",
    "df_user.head()"
   ]
  },
  {
   "cell_type": "code",
   "execution_count": 13,
   "metadata": {
    "collapsed": false
   },
   "outputs": [
    {
     "data": {
      "text/plain": [
       "<matplotlib.axes._subplots.AxesSubplot at 0x7f7574d66f90>"
      ]
     },
     "execution_count": 13,
     "metadata": {},
     "output_type": "execute_result"
    }
   ],
   "source": [
    "df_user.followers_count.hist(bins=100, log=True)"
   ]
  },
  {
   "cell_type": "code",
   "execution_count": 14,
   "metadata": {
    "collapsed": false
   },
   "outputs": [
    {
     "data": {
      "image/png": "[encoded data removed]",
      "text/plain": [
       "<matplotlib.figure.Figure at 0x7f7574ed73d0>"
      ]
     },
     "metadata": {},
     "output_type": "display_data"
    }
   ],
   "source": [
    "plt.show()"
   ]
  },
  {
   "cell_type": "code",
   "execution_count": null,
   "metadata": {
    "collapsed": true
   },
   "outputs": [],
   "source": []
  },
  {
   "cell_type": "code",
   "execution_count": 23,
   "metadata": {
    "collapsed": false
   },
   "outputs": [],
   "source": [
    "df_user[\"create_at\"] = df_user.create_at.apply(pd.to_datetime)"
   ]
  },
  {
   "cell_type": "code",
   "execution_count": null,
   "metadata": {
    "collapsed": false
   },
   "outputs": [],
   "source": [
    "df_user.create_at.hist(bins=100, log=True);\n",
    "plt.show()"
   ]
  },
  {
   "cell_type": "code",
   "execution_count": 27,
   "metadata": {
    "collapsed": false
   },
   "outputs": [],
   "source": [
    "m100 = df_user[df_user.followers_count > 100]\n",
    "l100 = df_user[df_user.followers_count <= 100]\n"
   ]
  },
  {
   "cell_type": "code",
   "execution_count": 34,
   "metadata": {
    "collapsed": false
   },
   "outputs": [
    {
     "data": {
      "image/png": "[encoded data removed]",
      "text/plain": [
       "<matplotlib.figure.Figure at 0x7f757088e150>"
      ]
     },
     "metadata": {},
     "output_type": "display_data"
    }
   ],
   "source": [
    "m100.create_at.hist(log=True)\n",
    "plt.show()\n"
   ]
  },
  {
   "cell_type": "code",
   "execution_count": 32,
   "metadata": {
    "collapsed": false
   },
   "outputs": [
    {
     "data": {
      "image/png": "[encoded data removed]",
      "text/plain": [
       "<matplotlib.figure.Figure at 0x7f756f28f510>"
      ]
     },
     "metadata": {},
     "output_type": "display_data"
    }
   ],
   "source": [
    "l100.create_at.hist(log=True)\n",
    "plt.show()\n"
   ]
  }
 ],
 "metadata": {
  "kernelspec": {
   "display_name": "Python 2",
   "language": "python",
   "name": "python2"
  },
  "language_info": {
   "codemirror_mode": {
    "name": "ipython",
    "version": 2
   },
   "file_extension": ".py",
   "mimetype": "text/x-python",
   "name": "python",
   "nbconvert_exporter": "python",
   "pygments_lexer": "ipython2",
   "version": "2.7.12"
  }
 },
 "nbformat": 4,
 "nbformat_minor": 1
}
